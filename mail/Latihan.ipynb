{
 "cells": [
  {
   "cell_type": "code",
   "execution_count": 1,
   "metadata": {},
   "outputs": [],
   "source": [
    "import getpass\n",
    "import imaplib\n",
    "import poplib"
   ]
  },
  {
   "cell_type": "code",
   "execution_count": 2,
   "metadata": {},
   "outputs": [],
   "source": [
    "def imap_mail(username):\n",
    "    try:\n",
    "\n",
    "        IMAP_SERVER = username[2]\n",
    "        IMAP_PORT = username[3]\n",
    "        mailbox = imaplib.IMAP4_SSL(IMAP_SERVER, IMAP_PORT) \n",
    "        password = getpass.getpass(prompt='Enter your email password: ') \n",
    "        mailbox.login(username[0], password)\n",
    "        mailbox.select('Inbox')\n",
    "        typ, data = mailbox.search(None, 'ALL')\n",
    "        for num in data[0].split():\n",
    "            typ, data = mailbox.fetch(num, '(RFC822)')\n",
    "            print ('Message %s\\n%s\\n' % (num, data[0][1]))\n",
    "            break\n",
    "        mailbox.close()\n",
    "        mailbox.logout()\n",
    "    except:\n",
    "        print('credential failed')\n",
    "    \n",
    "def pop_mail(username):\n",
    "    try:\n",
    "        POP_SERVER = username[2]\n",
    "        POP_PORT = username[3]\n",
    "        mailbox = poplib.POP3_SSL(POP_SERVER, POP_PORT) \n",
    "        mailbox.user(username[0])\n",
    "        password = getpass.getpass(prompt='Enter your email password: ') \n",
    "        mailbox.pass_(password) \n",
    "        num_messages = len(mailbox.list()[1])\n",
    "        print ('Total emails: {}'.format(num_messages))\n",
    "        mailbox.quit()\n",
    "    except:\n",
    "        print('credential failed')\n",
    "    "
   ]
  },
  {
   "cell_type": "code",
   "execution_count": 3,
   "metadata": {},
   "outputs": [],
   "source": [
    "def mail(username, protocol, host, port):\n",
    "    data = [username, protocol, host, port]\n",
    "    if(protocol == 1):\n",
    "        imap_mail(data)\n",
    "    elif(protocol == 2):\n",
    "        pop_mail(data)\n"
   ]
  },
  {
   "cell_type": "code",
   "execution_count": 4,
   "metadata": {},
   "outputs": [
    {
     "name": "stdout",
     "output_type": "stream",
     "text": [
      "enter your outlook email : 170010200@stikom-bali.ac.id\n",
      "1. IMAP\n",
      "2. POP\n",
      "Enter the number of your option : 2\n",
      "Enter your email password: ········\n",
      "Total emails: 25\n"
     ]
    }
   ],
   "source": [
    "username = input('enter your outlook email : ')\n",
    "try:    \n",
    "    print('1. IMAP')\n",
    "    print('2. POP')\n",
    "    protocol = int(input('Enter the number of your option : '))\n",
    "except:\n",
    "    print('Option not available')\n",
    "host = 'outlook.office365.com'\n",
    "if(protocol == 1):\n",
    "    port = '993'\n",
    "elif(protocol == 2):\n",
    "    port = '995'\n",
    "mail(username, protocol, host, port)\n"
   ]
  },
  {
   "cell_type": "code",
   "execution_count": null,
   "metadata": {},
   "outputs": [],
   "source": []
  },
  {
   "cell_type": "code",
   "execution_count": null,
   "metadata": {},
   "outputs": [],
   "source": []
  }
 ],
 "metadata": {
  "kernelspec": {
   "display_name": "Python 3",
   "language": "python",
   "name": "python3"
  },
  "language_info": {
   "codemirror_mode": {
    "name": "ipython",
    "version": 3
   },
   "file_extension": ".py",
   "mimetype": "text/x-python",
   "name": "python",
   "nbconvert_exporter": "python",
   "pygments_lexer": "ipython3",
   "version": "3.8.2"
  }
 },
 "nbformat": 4,
 "nbformat_minor": 4
}
